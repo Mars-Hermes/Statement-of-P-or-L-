{
 "cells": [
  {
   "cell_type": "code",
   "execution_count": 1,
   "id": "5ebe71a7",
   "metadata": {},
   "outputs": [],
   "source": [
    "#ANALYSIS ON TOTAL ENERGY STATEMENT OF PROFIT AND LOSS AND OTHER COMPREHENSIVE INCOME AS AT 30TH SEPTEMBER 2023\n",
    "#MOST OF THE VARIABLES ARE THE ACRONYMS OF THE TERMS, \n",
    "#i.e SPL = Statement of profit or loss, R = Revenue, OP = Operating Profit"
   ]
  },
  {
   "cell_type": "code",
   "execution_count": 2,
   "id": "ba6b7331",
   "metadata": {},
   "outputs": [],
   "source": [
    "import pandas as pd\n",
    "import requests\n",
    "import matplotlib as plt"
   ]
  },
  {
   "cell_type": "code",
   "execution_count": 3,
   "id": "a28f3634",
   "metadata": {},
   "outputs": [],
   "source": [
    "SPL = pd.read_excel('Book (4).xlsx')"
   ]
  },
  {
   "cell_type": "code",
   "execution_count": 4,
   "id": "ae40a499",
   "metadata": {},
   "outputs": [
    {
     "data": {
      "text/html": [
       "<div>\n",
       "<style scoped>\n",
       "    .dataframe tbody tr th:only-of-type {\n",
       "        vertical-align: middle;\n",
       "    }\n",
       "\n",
       "    .dataframe tbody tr th {\n",
       "        vertical-align: top;\n",
       "    }\n",
       "\n",
       "    .dataframe thead th {\n",
       "        text-align: right;\n",
       "    }\n",
       "</style>\n",
       "<table border=\"1\" class=\"dataframe\">\n",
       "  <thead>\n",
       "    <tr style=\"text-align: right;\">\n",
       "      <th></th>\n",
       "      <th>TOTAL ENERGIES MARKETING NIGERIA PLC</th>\n",
       "      <th>Unnamed: 1</th>\n",
       "      <th>Unnamed: 2</th>\n",
       "      <th>Unnamed: 3</th>\n",
       "      <th>Unnamed: 4</th>\n",
       "    </tr>\n",
       "  </thead>\n",
       "  <tbody>\n",
       "    <tr>\n",
       "      <th>0</th>\n",
       "      <td>STATEMENT OF PROFIT OR LOSS AND OTHER COMPREHE...</td>\n",
       "      <td>NaN</td>\n",
       "      <td>NaN</td>\n",
       "      <td>NaN</td>\n",
       "      <td>NaN</td>\n",
       "    </tr>\n",
       "    <tr>\n",
       "      <th>1</th>\n",
       "      <td>DESCRIPTION</td>\n",
       "      <td>NaN</td>\n",
       "      <td>NaN</td>\n",
       "      <td>30TH SEPTEMBER 2023</td>\n",
       "      <td>30TH SEPTEMBER 2022</td>\n",
       "    </tr>\n",
       "    <tr>\n",
       "      <th>2</th>\n",
       "      <td></td>\n",
       "      <td></td>\n",
       "      <td>NOTES</td>\n",
       "      <td>0</td>\n",
       "      <td>0</td>\n",
       "    </tr>\n",
       "    <tr>\n",
       "      <th>3</th>\n",
       "      <td></td>\n",
       "      <td></td>\n",
       "      <td></td>\n",
       "      <td></td>\n",
       "      <td></td>\n",
       "    </tr>\n",
       "    <tr>\n",
       "      <th>4</th>\n",
       "      <td>REVENUE</td>\n",
       "      <td>NaN</td>\n",
       "      <td></td>\n",
       "      <td>147973506</td>\n",
       "      <td>128173598</td>\n",
       "    </tr>\n",
       "    <tr>\n",
       "      <th>5</th>\n",
       "      <td>COST OF SALES</td>\n",
       "      <td></td>\n",
       "      <td></td>\n",
       "      <td>-126888550</td>\n",
       "      <td>-113316305</td>\n",
       "    </tr>\n",
       "    <tr>\n",
       "      <th>6</th>\n",
       "      <td></td>\n",
       "      <td></td>\n",
       "      <td></td>\n",
       "      <td></td>\n",
       "      <td></td>\n",
       "    </tr>\n",
       "    <tr>\n",
       "      <th>7</th>\n",
       "      <td>GROSS PROFIT</td>\n",
       "      <td></td>\n",
       "      <td></td>\n",
       "      <td>21084956</td>\n",
       "      <td>14857293</td>\n",
       "    </tr>\n",
       "    <tr>\n",
       "      <th>8</th>\n",
       "      <td></td>\n",
       "      <td></td>\n",
       "      <td></td>\n",
       "      <td></td>\n",
       "      <td></td>\n",
       "    </tr>\n",
       "    <tr>\n",
       "      <th>9</th>\n",
       "      <td>OTHER INCOMES</td>\n",
       "      <td></td>\n",
       "      <td></td>\n",
       "      <td>1230199</td>\n",
       "      <td>913217</td>\n",
       "    </tr>\n",
       "    <tr>\n",
       "      <th>10</th>\n",
       "      <td>OTHER EXPENSES</td>\n",
       "      <td></td>\n",
       "      <td></td>\n",
       "      <td>-4805084</td>\n",
       "      <td>0</td>\n",
       "    </tr>\n",
       "    <tr>\n",
       "      <th>11</th>\n",
       "      <td>SELLING AND DISTRIBUTION COST</td>\n",
       "      <td></td>\n",
       "      <td></td>\n",
       "      <td>-1780644</td>\n",
       "      <td>-721564</td>\n",
       "    </tr>\n",
       "    <tr>\n",
       "      <th>12</th>\n",
       "      <td></td>\n",
       "      <td></td>\n",
       "      <td></td>\n",
       "      <td></td>\n",
       "      <td></td>\n",
       "    </tr>\n",
       "    <tr>\n",
       "      <th>13</th>\n",
       "      <td>ADMINISTRATIVE EXPENSES</td>\n",
       "      <td></td>\n",
       "      <td></td>\n",
       "      <td>-11228719</td>\n",
       "      <td>-8280623</td>\n",
       "    </tr>\n",
       "    <tr>\n",
       "      <th>14</th>\n",
       "      <td>IMPAIRMENT</td>\n",
       "      <td></td>\n",
       "      <td></td>\n",
       "      <td>-4072</td>\n",
       "      <td>376062</td>\n",
       "    </tr>\n",
       "    <tr>\n",
       "      <th>15</th>\n",
       "      <td>OPERATING PROFIT</td>\n",
       "      <td></td>\n",
       "      <td></td>\n",
       "      <td>4496636</td>\n",
       "      <td>7144385</td>\n",
       "    </tr>\n",
       "    <tr>\n",
       "      <th>16</th>\n",
       "      <td></td>\n",
       "      <td></td>\n",
       "      <td></td>\n",
       "      <td></td>\n",
       "      <td></td>\n",
       "    </tr>\n",
       "    <tr>\n",
       "      <th>17</th>\n",
       "      <td>FINANCE INCOME</td>\n",
       "      <td></td>\n",
       "      <td></td>\n",
       "      <td>1034113</td>\n",
       "      <td>316725</td>\n",
       "    </tr>\n",
       "    <tr>\n",
       "      <th>18</th>\n",
       "      <td>FINANCE COST</td>\n",
       "      <td></td>\n",
       "      <td></td>\n",
       "      <td>-2385680</td>\n",
       "      <td>-1410382</td>\n",
       "    </tr>\n",
       "    <tr>\n",
       "      <th>19</th>\n",
       "      <td>NET FINANCE COST</td>\n",
       "      <td></td>\n",
       "      <td></td>\n",
       "      <td>-1351567</td>\n",
       "      <td>-1093657</td>\n",
       "    </tr>\n",
       "    <tr>\n",
       "      <th>20</th>\n",
       "      <td></td>\n",
       "      <td></td>\n",
       "      <td></td>\n",
       "      <td></td>\n",
       "      <td></td>\n",
       "    </tr>\n",
       "    <tr>\n",
       "      <th>21</th>\n",
       "      <td>PROFIT BEFORE INCOME TAX</td>\n",
       "      <td></td>\n",
       "      <td></td>\n",
       "      <td>3145069</td>\n",
       "      <td>6050728</td>\n",
       "    </tr>\n",
       "    <tr>\n",
       "      <th>22</th>\n",
       "      <td></td>\n",
       "      <td></td>\n",
       "      <td></td>\n",
       "      <td></td>\n",
       "      <td></td>\n",
       "    </tr>\n",
       "    <tr>\n",
       "      <th>23</th>\n",
       "      <td>INCOME TAX</td>\n",
       "      <td></td>\n",
       "      <td></td>\n",
       "      <td>-1111717</td>\n",
       "      <td>-2073742</td>\n",
       "    </tr>\n",
       "    <tr>\n",
       "      <th>24</th>\n",
       "      <td>PROFIT FOR THE PERIOD</td>\n",
       "      <td></td>\n",
       "      <td></td>\n",
       "      <td>2033352</td>\n",
       "      <td>3976986</td>\n",
       "    </tr>\n",
       "  </tbody>\n",
       "</table>\n",
       "</div>"
      ],
      "text/plain": [
       "                 TOTAL ENERGIES MARKETING NIGERIA PLC Unnamed: 1 Unnamed: 2  \\\n",
       "0   STATEMENT OF PROFIT OR LOSS AND OTHER COMPREHE...        NaN        NaN   \n",
       "1                                         DESCRIPTION        NaN        NaN   \n",
       "2                                                                     NOTES   \n",
       "3                                                                             \n",
       "4                                             REVENUE        NaN              \n",
       "5                                       COST OF SALES                         \n",
       "6                                                                             \n",
       "7                                        GROSS PROFIT                         \n",
       "8                                                                             \n",
       "9                                       OTHER INCOMES                         \n",
       "10                                     OTHER EXPENSES                         \n",
       "11                      SELLING AND DISTRIBUTION COST                         \n",
       "12                                                                            \n",
       "13                            ADMINISTRATIVE EXPENSES                         \n",
       "14                                         IMPAIRMENT                         \n",
       "15                                   OPERATING PROFIT                         \n",
       "16                                                                            \n",
       "17                                     FINANCE INCOME                         \n",
       "18                                       FINANCE COST                         \n",
       "19                                   NET FINANCE COST                         \n",
       "20                                                                            \n",
       "21                           PROFIT BEFORE INCOME TAX                         \n",
       "22                                                                            \n",
       "23                                         INCOME TAX                         \n",
       "24                              PROFIT FOR THE PERIOD                         \n",
       "\n",
       "             Unnamed: 3           Unnamed: 4  \n",
       "0                   NaN                  NaN  \n",
       "1   30TH SEPTEMBER 2023  30TH SEPTEMBER 2022  \n",
       "2                     0                    0  \n",
       "3                                             \n",
       "4             147973506            128173598  \n",
       "5            -126888550           -113316305  \n",
       "6                                             \n",
       "7              21084956             14857293  \n",
       "8                                             \n",
       "9               1230199               913217  \n",
       "10             -4805084                    0  \n",
       "11             -1780644              -721564  \n",
       "12                                            \n",
       "13            -11228719             -8280623  \n",
       "14                -4072               376062  \n",
       "15              4496636              7144385  \n",
       "16                                            \n",
       "17              1034113               316725  \n",
       "18             -2385680             -1410382  \n",
       "19             -1351567             -1093657  \n",
       "20                                            \n",
       "21              3145069              6050728  \n",
       "22                                            \n",
       "23             -1111717             -2073742  \n",
       "24              2033352              3976986  "
      ]
     },
     "execution_count": 4,
     "metadata": {},
     "output_type": "execute_result"
    }
   ],
   "source": [
    "SPL.head(25)"
   ]
  },
  {
   "cell_type": "code",
   "execution_count": 5,
   "id": "9606dff8",
   "metadata": {},
   "outputs": [
    {
     "name": "stdout",
     "output_type": "stream",
     "text": [
      "<class 'pandas.core.frame.DataFrame'>\n",
      "RangeIndex: 28 entries, 0 to 27\n",
      "Data columns (total 5 columns):\n",
      " #   Column                                Non-Null Count  Dtype \n",
      "---  ------                                --------------  ----- \n",
      " 0   TOTAL ENERGIES MARKETING NIGERIA PLC  28 non-null     object\n",
      " 1   Unnamed: 1                            25 non-null     object\n",
      " 2   Unnamed: 2                            26 non-null     object\n",
      " 3   Unnamed: 3                            27 non-null     object\n",
      " 4   Unnamed: 4                            27 non-null     object\n",
      "dtypes: object(5)\n",
      "memory usage: 1.2+ KB\n"
     ]
    }
   ],
   "source": [
    "SPL.info()"
   ]
  },
  {
   "cell_type": "code",
   "execution_count": 6,
   "id": "aaae57b2",
   "metadata": {},
   "outputs": [
    {
     "data": {
      "text/plain": [
       "TOTAL ENERGIES MARKETING NIGERIA PLC    0\n",
       "Unnamed: 1                              3\n",
       "Unnamed: 2                              2\n",
       "Unnamed: 3                              1\n",
       "Unnamed: 4                              1\n",
       "dtype: int64"
      ]
     },
     "execution_count": 6,
     "metadata": {},
     "output_type": "execute_result"
    }
   ],
   "source": [
    "SPL.isnull().sum()"
   ]
  },
  {
   "cell_type": "code",
   "execution_count": 7,
   "id": "fa42dba6",
   "metadata": {},
   "outputs": [
    {
     "data": {
      "text/plain": [
       "TOTAL ENERGIES MARKETING NIGERIA PLC      REVENUE\n",
       "Unnamed: 1                                    NaN\n",
       "Unnamed: 2                                       \n",
       "Unnamed: 3                              147973506\n",
       "Unnamed: 4                              128173598\n",
       "Name: 4, dtype: object"
      ]
     },
     "execution_count": 7,
     "metadata": {},
     "output_type": "execute_result"
    }
   ],
   "source": [
    "SPL.iloc[4]"
   ]
  },
  {
   "cell_type": "code",
   "execution_count": 8,
   "id": "a799b23d",
   "metadata": {},
   "outputs": [
    {
     "data": {
      "text/plain": [
       "128173598"
      ]
     },
     "execution_count": 8,
     "metadata": {},
     "output_type": "execute_result"
    }
   ],
   "source": [
    "SPL.iloc[4, 4]"
   ]
  },
  {
   "cell_type": "code",
   "execution_count": 9,
   "id": "93890e29",
   "metadata": {},
   "outputs": [
    {
     "data": {
      "text/plain": [
       "TOTAL ENERGIES MARKETING NIGERIA PLC    OTHER INCOMES\n",
       "Unnamed: 1                                           \n",
       "Unnamed: 2                                           \n",
       "Unnamed: 3                                    1230199\n",
       "Unnamed: 4                                     913217\n",
       "Name: 9, dtype: object"
      ]
     },
     "execution_count": 9,
     "metadata": {},
     "output_type": "execute_result"
    }
   ],
   "source": [
    "SPL.iloc[4 + 5 ]"
   ]
  },
  {
   "cell_type": "code",
   "execution_count": 10,
   "id": "884a389f",
   "metadata": {},
   "outputs": [],
   "source": [
    "C_R = SPL.iloc[4]"
   ]
  },
  {
   "cell_type": "code",
   "execution_count": 11,
   "id": "f34f315a",
   "metadata": {},
   "outputs": [
    {
     "data": {
      "text/plain": [
       "TOTAL ENERGIES MARKETING NIGERIA PLC      REVENUE\n",
       "Unnamed: 1                                    NaN\n",
       "Unnamed: 2                                       \n",
       "Unnamed: 3                              147973506\n",
       "Unnamed: 4                              128173598\n",
       "Name: 4, dtype: object"
      ]
     },
     "execution_count": 11,
     "metadata": {},
     "output_type": "execute_result"
    }
   ],
   "source": [
    "C_R"
   ]
  },
  {
   "cell_type": "code",
   "execution_count": 12,
   "id": "b1ffa9bf",
   "metadata": {},
   "outputs": [],
   "source": [
    "C_COGS = SPL.iloc[5]"
   ]
  },
  {
   "cell_type": "code",
   "execution_count": 13,
   "id": "aa76d2af",
   "metadata": {},
   "outputs": [
    {
     "data": {
      "text/plain": [
       "TOTAL ENERGIES MARKETING NIGERIA PLC    COST OF SALES\n",
       "Unnamed: 1                                           \n",
       "Unnamed: 2                                           \n",
       "Unnamed: 3                                 -126888550\n",
       "Unnamed: 4                                 -113316305\n",
       "Name: 5, dtype: object"
      ]
     },
     "execution_count": 13,
     "metadata": {},
     "output_type": "execute_result"
    }
   ],
   "source": [
    "C_COGS"
   ]
  },
  {
   "cell_type": "code",
   "execution_count": 14,
   "id": "ea4be4e0",
   "metadata": {},
   "outputs": [
    {
     "name": "stdout",
     "output_type": "stream",
     "text": [
      "21084956 IS GROSS PROFIT\n"
     ]
    }
   ],
   "source": [
    "#GROSS PROFIT CALCULATION MODEL\n",
    "R = SPL.iloc[4,3]\n",
    "COGS = SPL.iloc[5,3]\n",
    "GP = R + COGS\n",
    "print(GP, 'IS GROSS PROFIT')"
   ]
  },
  {
   "cell_type": "code",
   "execution_count": 15,
   "id": "64553750",
   "metadata": {},
   "outputs": [
    {
     "name": "stdout",
     "output_type": "stream",
     "text": [
      "4496636\n"
     ]
    }
   ],
   "source": [
    "#OPERATING PROFIT CALCULATION MODEL\n",
    "t1 = SPL.iloc[9, 3]\n",
    "t2 = SPL.iloc[10, 3]\n",
    "t3 = SPL.iloc[11, 3]\n",
    "t4 = SPL.iloc[13, 3]\n",
    "t5 = SPL.iloc[14, 3]\n",
    "\n",
    "#Operating Profit\n",
    "OP = GP + t1 + t2 + t3 + t4 + t5\n",
    "print(OP)"
   ]
  },
  {
   "cell_type": "code",
   "execution_count": 16,
   "id": "997e1873",
   "metadata": {},
   "outputs": [
    {
     "name": "stdout",
     "output_type": "stream",
     "text": [
      "-1351567\n"
     ]
    }
   ],
   "source": [
    "#FINANCE COST\n",
    "FC1 = SPL.iloc[17,3]\n",
    "FC2 = SPL.iloc[18,3]\n",
    "\n",
    "FC = FC1 + FC2\n",
    "print(FC)"
   ]
  },
  {
   "cell_type": "code",
   "execution_count": 17,
   "id": "cfdfc6e6",
   "metadata": {},
   "outputs": [
    {
     "name": "stdout",
     "output_type": "stream",
     "text": [
      "3145069\n"
     ]
    }
   ],
   "source": [
    "#PROFIT BEFORE TAXATION\n",
    "\n",
    "PBT = OP + FC\n",
    "print(PBT)"
   ]
  },
  {
   "cell_type": "code",
   "execution_count": 20,
   "id": "fd823c41",
   "metadata": {},
   "outputs": [
    {
     "name": "stdout",
     "output_type": "stream",
     "text": [
      "2033352\n"
     ]
    }
   ],
   "source": [
    "#NET PROFIT\n",
    "NP = PBT + SPL.iloc[23,3]\n",
    "print(NT)"
   ]
  },
  {
   "cell_type": "code",
   "execution_count": null,
   "id": "6994a742",
   "metadata": {},
   "outputs": [],
   "source": []
  }
 ],
 "metadata": {
  "kernelspec": {
   "display_name": "Python 3 (ipykernel)",
   "language": "python",
   "name": "python3"
  },
  "language_info": {
   "codemirror_mode": {
    "name": "ipython",
    "version": 3
   },
   "file_extension": ".py",
   "mimetype": "text/x-python",
   "name": "python",
   "nbconvert_exporter": "python",
   "pygments_lexer": "ipython3",
   "version": "3.10.9"
  }
 },
 "nbformat": 4,
 "nbformat_minor": 5
}
